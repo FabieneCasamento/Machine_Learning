{
 "cells": [
  {
   "cell_type": "code",
   "execution_count": 1,
   "id": "ee28dca9-a313-44f0-9a18-3223209e0492",
   "metadata": {},
   "outputs": [
    {
     "name": "stdout",
     "output_type": "stream",
     "text": [
      "Total: 2.84 GB\n",
      "Disponível: 0.99 GB\n",
      "Usada: 1.60 GB\n",
      "Percentual Usado: 65.1%\n"
     ]
    }
   ],
   "source": [
    "import psutil\n",
    "\n",
    "# Obter informações de memória\n",
    "memory_info = psutil.virtual_memory()\n",
    "\n",
    "# Exibir informações de memória\n",
    "print(f\"Total: {memory_info.total / (1024 ** 3):.2f} GB\")\n",
    "print(f\"Disponível: {memory_info.available / (1024 ** 3):.2f} GB\")\n",
    "print(f\"Usada: {memory_info.used / (1024 ** 3):.2f} GB\")\n",
    "print(f\"Percentual Usado: {memory_info.percent}%\")"
   ]
  },
  {
   "cell_type": "code",
   "execution_count": null,
   "id": "27ca0085-8f80-4b3f-b12d-d8fa5fa08bd0",
   "metadata": {},
   "outputs": [],
   "source": []
  }
 ],
 "metadata": {
  "kernelspec": {
   "display_name": "Python 3 (ipykernel)",
   "language": "python",
   "name": "python3"
  },
  "language_info": {
   "codemirror_mode": {
    "name": "ipython",
    "version": 3
   },
   "file_extension": ".py",
   "mimetype": "text/x-python",
   "name": "python",
   "nbconvert_exporter": "python",
   "pygments_lexer": "ipython3",
   "version": "3.11.5"
  }
 },
 "nbformat": 4,
 "nbformat_minor": 5
}
